{
 "cells": [
  {
   "cell_type": "code",
   "execution_count": null,
   "id": "213db57c-a9d6-498f-b33c-216daafafa6f",
   "metadata": {},
   "outputs": [],
   "source": [
    "!pip install geospatial-ml"
   ]
  },
  {
   "cell_type": "code",
   "execution_count": null,
   "id": "dcb9503d-1b6f-4a7d-9ee2-c5a3e15664f0",
   "metadata": {},
   "outputs": [],
   "source": [
    "import leafmap"
   ]
  },
  {
   "cell_type": "code",
   "execution_count": null,
   "id": "2e120f6e-4cc1-481b-a1c9-36b574c55aec",
   "metadata": {},
   "outputs": [],
   "source": [
    "m = leafmap.Map()\n",
    "m.add_basemap(\"OpenTopoMap\")\n",
    "m"
   ]
  }
 ],
 "metadata": {
  "kernelspec": {
   "display_name": "Python 3",
   "language": "python",
   "name": "python3"
  },
  "language_info": {
   "codemirror_mode": {
    "name": "ipython",
    "version": 3
   },
   "file_extension": ".py",
   "mimetype": "text/x-python",
   "name": "python",
   "nbconvert_exporter": "python",
   "pygments_lexer": "ipython3",
   "version": "3.10.4"
  }
 },
 "nbformat": 4,
 "nbformat_minor": 5
}
